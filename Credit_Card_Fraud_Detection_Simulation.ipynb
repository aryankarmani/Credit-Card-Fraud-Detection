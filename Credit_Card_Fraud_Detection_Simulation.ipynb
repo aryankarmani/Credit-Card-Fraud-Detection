{
  "nbformat": 4,
  "nbformat_minor": 0,
  "metadata": {
    "colab": {
      "provenance": []
    },
    "kernelspec": {
      "name": "python3",
      "display_name": "Python 3"
    },
    "language_info": {
      "name": "python"
    }
  },
  "cells": [
    {
      "cell_type": "code",
      "execution_count": 3,
      "metadata": {
        "colab": {
          "base_uri": "https://localhost:8080/",
          "height": 0
        },
        "id": "cw0vaTUMNz0B",
        "outputId": "e5fa6b38-6333-4e50-8cad-c94e2af867e7"
      },
      "outputs": [
        {
          "output_type": "stream",
          "name": "stdout",
          "text": [
            "Transaction 0 for $122.17251397739788 on card 3421954018477530 is valid.\n",
            "Transaction 1 for $12.89557143201 on card 2646281344109637 is valid.\n",
            "Transaction 2 for $545.3639258882699 on card 9640033969011430 is valid.\n",
            "Transaction 3 for $229.2976193211762 on card 1772936153340669 is valid.\n",
            "Transaction 4 for $334.50038512591544 on card 6062434948060898 is valid.\n",
            "Transaction 5 for $315.93064204829477 on card 7729464341907438 is valid.\n",
            "Transaction 6 for $733.930791354876 on card 2906017391719922 is fraudulent!\n",
            "Transaction 7 for $321.16679342324534 on card 7476739944430416 is valid.\n",
            "Transaction 8 for $792.381512727952 on card 7990664862595180 is valid.\n",
            "Transaction 9 for $645.4175028473551 on card 2582111883071933 is valid.\n"
          ]
        }
      ],
      "source": [
        "# credit card fraud detection\n",
        "import simpy\n",
        "import random\n",
        "\n",
        "class CreditCardTransaction:\n",
        "    def __init__(self, env, transaction_id, amount, card_number, fraud_detection_algorithm):\n",
        "        self.env = env\n",
        "        self.transaction_id = transaction_id\n",
        "        self.amount = amount\n",
        "        self.card_number = card_number\n",
        "        self.fraud_detection_algorithm = fraud_detection_algorithm\n",
        "        \n",
        "    def process_transaction(self):\n",
        "        yield self.env.timeout(1) # simulate processing time\n",
        "        \n",
        "        # apply fraud detection algorithm\n",
        "        is_fraudulent = self.fraud_detection_algorithm(self.amount, self.card_number)\n",
        "        if is_fraudulent:\n",
        "            print(f\"Transaction {self.transaction_id} for ${self.amount} on card {self.card_number} is fraudulent!\")\n",
        "        else:\n",
        "            print(f\"Transaction {self.transaction_id} for ${self.amount} on card {self.card_number} is valid.\")\n",
        "            \n",
        "def fraud_detection_algorithm(amount, card_number):\n",
        "    # apply simple fraud detection algorithm\n",
        "    if random.random() < 0.1: # 10% chance of fraud\n",
        "        return True\n",
        "    else:\n",
        "        return False\n",
        "    \n",
        "def generate_transactions(env, num_transactions, fraud_detection_algorithm):\n",
        "    for i in range(num_transactions):\n",
        "        transaction_id = i\n",
        "        amount = random.uniform(1, 1000)\n",
        "        card_number = random.randint(1000000000000000, 9999999999999999)\n",
        "        transaction = CreditCardTransaction(env, transaction_id, amount, card_number, fraud_detection_algorithm)\n",
        "        env.process(transaction.process_transaction())\n",
        "        yield env.timeout(0.1) # simulate transaction arrival time\n",
        "        \n",
        "env = simpy.Environment()\n",
        "env.process(generate_transactions(env, 10, fraud_detection_algorithm))\n",
        "env.run()\n"
      ]
    }
  ]
}